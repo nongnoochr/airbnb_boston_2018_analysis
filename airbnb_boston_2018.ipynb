{
 "cells": [
  {
   "cell_type": "markdown",
   "metadata": {},
   "source": [
    "## Columns of interest"
   ]
  },
  {
   "cell_type": "markdown",
   "metadata": {},
   "source": [
    "\n",
    "http://insideairbnb.com/get-the-data.html\n",
    "Boston data 17November2018"
   ]
  },
  {
   "cell_type": "markdown",
   "metadata": {},
   "source": [
    "### calendar.csv\n",
    "\n",
    "* available\n",
    "* price"
   ]
  },
  {
   "cell_type": "markdown",
   "metadata": {},
   "source": [
    "### listings.csv\n",
    "\n",
    "(?) can we find most frequent words in these fields?\n",
    "* summary\n",
    "* space\n",
    "* descriptions\n",
    "* neighborhood_overview\n",
    "* notes\n",
    "* transit\n",
    "\n",
    "Others\n",
    "* host_since\n",
    "* host_location\n",
    "* host_about (Can we extract common texts in this field\")\n",
    "* host_response_time\n",
    "* host_response_rate\n",
    "* host_is_superhost\n",
    "* host_neighbourhood\n",
    "* host_listings_count\n",
    "* host_verifications\n",
    "* host_identity_verified\n",
    "* street\n",
    "* neighbourhood\n",
    "* neighbourhood_cleansed\n",
    "* neighbourhood_group_cleansed\n",
    "* city\n",
    "* state\n",
    "* zipcode\n",
    "* is_location_exact\n",
    "* property_type (Might need to be cleaned since the same property can have multiple listing with this info)\n",
    "* room_type\n",
    "* accommodates\n",
    "* bathrooms\n",
    "* bedrooms\n",
    "* beds\n",
    "* bed_type\n",
    "* amenities (Need to clean this)\n",
    "* price\n",
    "* weekly_price\n",
    "* monthly_price\n",
    "* security_deposit\n",
    "* cleaning_fee\n",
    "* guests_included\n",
    "* extra_people\n",
    "* minimum_nights\n",
    "* maximum_nights\n",
    "* availability_30\n",
    "* availability_60\n",
    "* availability_90\n",
    "* availability_365\n",
    "* number_of_reviews\n",
    "* first_review\n",
    "* last_review\n",
    "* review_scores_rating\n",
    "* review_scores_accuracy\n",
    "* review_scores_cleanliness\n",
    "* review_scores_checkin\n",
    "* review_scores_communication\n",
    "* review_scores_location\n",
    "* review_scores_value\n",
    "* instant_bookable\n",
    "* cancellation_policy\n",
    "* reviews_per_month"
   ]
  },
  {
   "cell_type": "markdown",
   "metadata": {},
   "source": [
    "Prepare data:\n",
    "\n",
    "* Gather necessary data to answer your questions\n",
    "* Handle categorical and missing data\n",
    "* Provide insight into the methods you chose and why you chose them\n",
    "\n",
    "Analyze, Model, and Visualize\n",
    "\n",
    "* Provide a clear connection between your business questions and how the data answers them."
   ]
  },
  {
   "cell_type": "markdown",
   "metadata": {},
   "source": [
    "Questions:\n",
    "* What artifacts in listing that help with more booking/reviews?\n",
    "* Great boston areas -> average price for each room type"
   ]
  }
 ],
 "metadata": {
  "kernelspec": {
   "display_name": "Python 3",
   "language": "python",
   "name": "python3"
  },
  "language_info": {
   "codemirror_mode": {
    "name": "ipython",
    "version": 3
   },
   "file_extension": ".py",
   "mimetype": "text/x-python",
   "name": "python",
   "nbconvert_exporter": "python",
   "pygments_lexer": "ipython3",
   "version": "3.6.5"
  }
 },
 "nbformat": 4,
 "nbformat_minor": 2
}
